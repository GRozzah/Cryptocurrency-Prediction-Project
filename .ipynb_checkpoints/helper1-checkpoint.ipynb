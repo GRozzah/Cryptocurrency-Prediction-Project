{
 "cells": [
  {
   "cell_type": "code",
   "execution_count": 1,
   "id": "83ea1d09-3530-49a8-9769-31f05ff155ee",
   "metadata": {},
   "outputs": [],
   "source": [
    "import requests\n",
    "import yfinance as yf\n",
    "import pandas as pd\n",
    "\n",
    "def fetch_crypto_tickers(limit=100):\n",
    "    \"\"\"Fetch cryptocurrency tickers with names from CoinGecko.\"\"\"\n",
    "    try:\n",
    "        url = \"https://api.coingecko.com/api/v3/coins/markets\"\n",
    "        params = {\n",
    "            \"vs_currency\": \"usd\",\n",
    "            \"order\": \"market_cap_desc\",\n",
    "            \"per_page\": limit,\n",
    "            \"page\": 1\n",
    "        }\n",
    "        response = requests.get(url, params=params)\n",
    "        response.raise_for_status()\n",
    "        data = response.json()\n",
    "        return [{\"ticker\": f\"{coin['symbol'].upper()}-USD\", \"name\": coin['name']} for coin in data]\n",
    "    except Exception as e:\n",
    "        raise RuntimeError(f\"Failed to fetch cryptocurrency tickers. Please check your internet connection or try again later. Error: {e}\")\n",
    "\n",
    "def download_data(ticker):\n",
    "    \"\"\"Fetch historical data from Yahoo Finance.\"\"\"\n",
    "    data = yf.download(ticker, period=\"max\", interval=\"1d\")\n",
    "    if data.empty:\n",
    "        raise ValueError(f\"No valid data for ticker {ticker}.\")\n",
    "    \n",
    "    # Handle MultiIndex columns\n",
    "    if isinstance(data.columns, pd.MultiIndex):\n",
    "        data.columns = ['_'.join(col).strip() for col in data.columns.values]\n",
    "\n",
    "    if 'Close' not in data.columns and f'Close_{ticker}' not in data.columns:\n",
    "        raise ValueError(f\"'Close' column not found for ticker {ticker}.\")\n",
    "    \n",
    "    # Drop rows where Close prices are missing\n",
    "    close_column = 'Close' if 'Close' in data.columns else f'Close_{ticker}'\n",
    "    return data.dropna(subset=[close_column]), close_column\n",
    "\n",
    "def format_table(df):\n",
    "    \"\"\"Format the DataFrame for Streamlit display.\"\"\"\n",
    "    df = df.loc[:, ~df.columns.duplicated()]  # Remove duplicate columns\n",
    "    df.reset_index(inplace=False)\n",
    "    df['Date'] = pd.to_datetime(df['Date']).dt.strftime('%Y-%m-%d')\n",
    "    return df.rename(columns={0: \"Predicted Closing Price\"})"
   ]
  },
  {
   "cell_type": "code",
   "execution_count": null,
   "id": "c752c6b9-5f49-458d-85b5-05338e2c95c0",
   "metadata": {},
   "outputs": [],
   "source": []
  }
 ],
 "metadata": {
  "kernelspec": {
   "display_name": "Python 3 (ipykernel)",
   "language": "python",
   "name": "python3"
  },
  "language_info": {
   "codemirror_mode": {
    "name": "ipython",
    "version": 3
   },
   "file_extension": ".py",
   "mimetype": "text/x-python",
   "name": "python",
   "nbconvert_exporter": "python",
   "pygments_lexer": "ipython3",
   "version": "3.11.7"
  }
 },
 "nbformat": 4,
 "nbformat_minor": 5
}
